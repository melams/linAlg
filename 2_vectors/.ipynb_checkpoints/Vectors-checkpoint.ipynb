{
 "cells": [
  {
   "cell_type": "markdown",
   "metadata": {},
   "source": [
    "# Vector Nomanclature & Symbology"
   ]
  },
  {
   "cell_type": "markdown",
   "metadata": {},
   "source": [
    "<h3>Vector Notations</h3>\n",
    "<h2><i><b>v</b></i> = <i>&#x20d7;v</i></h2>\n",
    "\n",
    "<h3>Length Notations</h3>\n",
    "<h2>|<i><b>v</b></i>| = ||<i><b>v</b></i>||\n",
    "\n",
    "\n",
    "<h3>Dot Product Notations & Symbols</h3> \n",
    "\n",
    "<h2>&alpha; = v &sdot; w = v<sup>T</sup>w = &sum;<sup>n</sup><sub>i=1</sub> v<sub>i</sub>w<sub>i</sub></h2>"
   ]
  },
  {
   "cell_type": "markdown",
   "metadata": {},
   "source": [
    "# General Vector Theory"
   ]
  },
  {
   "cell_type": "markdown",
   "metadata": {},
   "source": [
    "<b>Vector:</b> is an ordered list of numbers. E.g. (44,3,2,77,6) is a 5D vector\n",
    "\n",
    "<b>Dimensionality:</b> the number of elements in a vector set. E.g. (5,4,99) has 3 elements and is therefore a 3D vector. \n",
    "\n",
    "Each element represents the magnitude in a different dimension. E.g. a 2D vector (5,7) can be represented graphically as a a straight line that extends 5 units along the x-axis and 7 units along the y-axis\n",
    "\n",
    "From the different magnitudes, you can calculate orientation\n",
    "\n",
    "A vector does not have a starting point, but the <b>standard position</b> is at coordinate 0,0 on a standard cartesian plane. \n",
    "\n",
    "<img src=\"Standard Position.PNG\" width=\"300\">"
   ]
  },
  {
   "cell_type": "markdown",
   "metadata": {},
   "source": [
    "# Code Example "
   ]
  },
  {
   "cell_type": "code",
   "execution_count": 7,
   "metadata": {},
   "outputs": [],
   "source": [
    "import numpy as np\n",
    "import matplotlib.pyplot as plt\n",
    "from mpl_toolkits.mplot3d import Axes3D"
   ]
  },
  {
   "cell_type": "markdown",
   "metadata": {},
   "source": [
    "# # Algebraic Interpretation\n",
    "## With some numpy learnings\n",
    "\n",
    "In numpy a vector and matrix are represented as the same thing an array"
   ]
  },
  {
   "cell_type": "code",
   "execution_count": 69,
   "metadata": {
    "scrolled": true
   },
   "outputs": [
    {
     "name": "stdout",
     "output_type": "stream",
     "text": [
      "A 1D vector (array): [1] \n",
      "\n",
      "A 1D array with a list: [1 5 2] \n",
      "\n",
      "Transpose of a 1D array with a list: [1 5 2] \n",
      "\n",
      "A 2D  vector (array):\n",
      " [[31]\n",
      " [18]] \n",
      "\n",
      "Transpose of a 2D  vector (array):\n",
      " [[31 18]] \n",
      "\n",
      "A 2x4 matrix (array):\n",
      " [[ 43  55 324   2]\n",
      " [ 22  12  22   3]] (2, 4) \n",
      "\n",
      "Transpose of a 2x4 matrix (array) is a 4x2 matrix:\n",
      " [[ 43  22]\n",
      " [ 55  12]\n",
      " [324  22]\n",
      " [  2   3]] (4, 2) \n",
      "\n",
      "3D vec:\n",
      " [[ 14]\n",
      " [-31]\n",
      " [ 32]] \n",
      "\n",
      "4D vec:\n",
      " [[ 34]\n",
      " [ 51]\n",
      " [ 22]\n",
      " [774]] \n",
      "\n",
      "5D vec:\n",
      " [[34]\n",
      " [51]\n",
      " [22]\n",
      " [-2]\n",
      " [21]] \n",
      "\n",
      "3D vec transpose:\n",
      " [[ 14 -31  32]] \n",
      "\n",
      "4D vec transpose:\n",
      " [[ 34  51  22 774]] \n",
      "\n",
      "5D vec transpose:\n",
      " [[34 51 22 -2 21]] \n",
      "\n"
     ]
    }
   ],
   "source": [
    "# A 1D vector is represented by a single digit in a 1D numpy array:\n",
    "vec_1d = np.array([1])\n",
    "print(\"A 1D vector (array):\", vec_1d, \"\\n\")\n",
    "\n",
    "# A 1D array can also have a list as an element\n",
    "array_1d_list = np.array([1,5,2])  # this is also a 1D array (like above), but containsa list of numbers \n",
    "print(\"A 1D array with a list:\", array_1d_list, \"\\n\")\n",
    "\n",
    "# Transposing a 1D array returns an unchanged view\n",
    "print(\"Transpose of a 1D array with a list:\", np.transpose(array_1d_list), \"\\n\")\n",
    "\n",
    "# A 2D vector (column vector) is written as follows in numpy\n",
    "vec_2d = np.array([[31],[18]])\n",
    "print(\"A 2D  vector (array):\\n\", vec_2d, \"\\n\")\n",
    "\n",
    "# the above can be transposed into a row vector\n",
    "print(\"Transpose of a 2D  vector (array):\\n\", np.transpose(vec_2d), \"\\n\")\n",
    "\n",
    "# the following is a 2D array with 4 columns each or a 2x4 matrix\n",
    "array_2d_matrix = np.array([[43,55,324,2], [22,12,22,3]])\n",
    "print(\"A 2x4 matrix (array):\\n\", array_2d_matrix, array_2d_matrix.shape, \"\\n\")\n",
    "\n",
    "# The transposition of the above 2x4 matrix from above is a 4x2 matrix\n",
    "print(\"Transpose of a 2x4 matrix (array) is a 4x2 matrix:\\n\", np.transpose(array_2d_matrix), \n",
    "      np.transpose(array_2d_matrix).shape, \"\\n\")\n",
    "\n",
    "# 3, 4 and 5 dimensional vectors would be represented in numpy as follows:\n",
    "vec_3d = np.array([[14], [-31], [32]])\n",
    "vec_4d = np.array([[34], [51], [22], [774]])\n",
    "vec_5d = np.array([[34], [51], [22], [-2], [21]])\n",
    "\n",
    "print(\"3D vec:\\n\", vec_3d, \"\\n\\n4D vec:\\n\", vec_4d, \"\\n\\n5D vec:\\n\", vec_5d, \"\\n\")\n",
    "\n",
    "# transpositions of the 3D, 4D and 5D vectors\n",
    "print(\"3D vec transpose:\\n\", np.transpose(vec_3d), \"\\n\\n4D vec transpose:\\n\", np.transpose(vec_4d), \n",
    "      \"\\n\\n5D vec transpose:\\n\", np.transpose(vec_5d), \"\\n\")"
   ]
  },
  {
   "cell_type": "markdown",
   "metadata": {},
   "source": [
    "# Geometric Interpretation"
   ]
  },
  {
   "cell_type": "code",
   "execution_count": 70,
   "metadata": {
    "scrolled": false
   },
   "outputs": [
    {
     "data": {
      "image/png": "[encoded data removed]",
      "text/plain": [
       "<Figure size 432x288 with 1 Axes>"
      ]
     },
     "metadata": {
      "needs_background": "light"
     },
     "output_type": "display_data"
    },
    {
     "data": {
      "image/png": "[encoded data removed]",
      "text/plain": [
       "<Figure size 432x288 with 1 Axes>"
      ]
     },
     "metadata": {
      "needs_background": "light"
     },
     "output_type": "display_data"
    }
   ],
   "source": [
    "# plot them\n",
    "plt.plot([0,vec_2d[0]],[0,vec_2d[1]])\n",
    "plt.axis('equal')\n",
    "plt.plot([-50, 50],[0, 0],'k--')\n",
    "plt.plot([0, 0],[-50, 50],'k--')\n",
    "plt.grid()\n",
    "plt.axis((-50, 50, -50, 50))\n",
    "plt.show()\n",
    "\n",
    "\n",
    "# plot the 3D vector\n",
    "fig = plt.figure()\n",
    "ax = fig.gca(projection='3d')\n",
    "ax.plot([0, vec_3d[0]],[0, vec_3d[1]],[0, vec_3d[2]])\n",
    "\n",
    "# make the plot look nicer\n",
    "plt.axis('equal')\n",
    "ax.plot([0, 0],[0, 0],[-35, 35],'k--')\n",
    "ax.plot([0, 0],[-35, 35],[0, 0],'k--')\n",
    "ax.plot([-35, 35],[0, 0],[0, 0],'k--')\n",
    "plt.show()"
   ]
  },
  {
   "cell_type": "markdown",
   "metadata": {},
   "source": [
    "# Vector Addition, Subtraction & Scalar Multiplication"
   ]
  },
  {
   "cell_type": "code",
   "execution_count": null,
   "metadata": {},
   "outputs": [],
   "source": [
    "# Vector to vector addition\n"
   ]
  }
 ],
 "metadata": {
  "kernelspec": {
   "display_name": "Python 3",
   "language": "python",
   "name": "python3"
  },
  "language_info": {
   "codemirror_mode": {
    "name": "ipython",
    "version": 3
   },
   "file_extension": ".py",
   "mimetype": "text/x-python",
   "name": "python",
   "nbconvert_exporter": "python",
   "pygments_lexer": "ipython3",
   "version": "3.7.1"
  }
 },
 "nbformat": 4,
 "nbformat_minor": 2
}
