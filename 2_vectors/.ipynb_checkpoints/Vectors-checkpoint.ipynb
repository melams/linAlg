{
 "cells": [
  {
   "cell_type": "markdown",
   "metadata": {},
   "source": [
    "# Vector Nomanclature & Symbology"
   ]
  },
  {
   "cell_type": "markdown",
   "metadata": {},
   "source": [
    "<h3>Vector Notations</h3>\n",
    "<h2><i><b>v</b></i> = <i>&#x20d7;v</i></h2>\n",
    "\n",
    "<h3>Scalar Notation</h3>\n",
    "<h2>&alpha; = &lambda; = &beta;</h2>\n",
    "\n",
    "\n",
    "<h3>Length Notations</h3>\n",
    "<h2>|<i><b>v</b></i>| = ||<i><b>v</b></i>||\n",
    "\n",
    "\n",
    "<h3>Vector Scalar Multiplication is symbolized as</h3>\n",
    "<h2><i><b>v</b></i> = &lambda;<i><b>w</b></i> = &alpha;<i><b>w</b></i> = &beta;<i><b>w</b></i> \n",
    "\n",
    "\n",
    "<h3>Dot Product Notations & Symbols</h3> \n",
    "\n",
    "<h2>&alpha; = v &sdot; w = v<sup>T</sup>w = &sum;<sup>n</sup><sub>i=1</sub> v<sub>i</sub>w<sub>i</sub></h2>\n",
    "\n",
    "<p><b>Note:</b> The result of the dot product is a scalar (&alpha;)</p>"
   ]
  },
  {
   "cell_type": "markdown",
   "metadata": {},
   "source": [
    "# General Vector Theory"
   ]
  },
  {
   "cell_type": "markdown",
   "metadata": {},
   "source": [
    "<b>Vector:</b> is an ordered list of numbers. E.g. (44,3,2,77,6) is a 5D vector\n",
    "\n",
    "<b>Dimensionality:</b> the number of elements in a vector set. E.g. (5,4,99) has 3 elements and is therefore a 3D vector. \n",
    "\n",
    "Each element represents the magnitude in a different dimension. E.g. a 2D vector (5,7) can be represented graphically as a a straight line that extends 5 units along the x-axis and 7 units along the y-axis\n",
    "\n",
    "From the different magnitudes, you can calculate orientation\n",
    "\n",
    "A vector does not have a starting point, but the <b>standard position</b> is at coordinate 0,0 on a standard cartesian plane. \n",
    "\n",
    "<img src=\"Standard Position.PNG\" width=\"300\">"
   ]
  },
  {
   "cell_type": "markdown",
   "metadata": {},
   "source": [
    "# Code Example "
   ]
  },
  {
   "cell_type": "code",
   "execution_count": 36,
   "metadata": {},
   "outputs": [],
   "source": [
    "%matplotlib qt  \n",
    "\n",
    "import numpy as np\n",
    "import matplotlib.pyplot as plt\n",
    "from mpl_toolkits.mplot3d import Axes3D"
   ]
  },
  {
   "cell_type": "markdown",
   "metadata": {},
   "source": [
    "# # Algebraic Interpretation\n",
    "## With some numpy learnings\n",
    "\n",
    "In numpy a vector and matrix are represented as the same thing an array\n",
    "\n",
    "VERY IMPORTANT - A 1D ARRAY IN NUMPY IS TREATED AS A VECTOR"
   ]
  },
  {
   "cell_type": "code",
   "execution_count": 37,
   "metadata": {
    "scrolled": true
   },
   "outputs": [
    {
     "name": "stdout",
     "output_type": "stream",
     "text": [
      "A 1D vector (array): [1] \n",
      "\n",
      "A 1D array with a list is basically a 3D vector: [1 5 2] \n",
      "\n",
      "Get the first element of the 1D array with 3 elements (3D vector):  1 \n",
      "\n",
      "Transpose of a 1D array with a list: [1 5 2] \n",
      "\n",
      "A 2x1 D array):\n",
      " [[31]\n",
      " [18]] \n",
      "\n",
      "Transpose of a 2x1 D array):\n",
      " [[31 18]] \n",
      "\n",
      "A 2x4 matrix (array):\n",
      " [[ 43  55 324   2]\n",
      " [ 22  12  22   3]] (2, 4) \n",
      "\n",
      "Transpose of a 2x4 matrix (array) is a 4x2 matrix:\n",
      " [[ 43  22]\n",
      " [ 55  12]\n",
      " [324  22]\n",
      " [  2   3]] (4, 2) \n",
      "\n",
      "3D array:\n",
      " [[ 14]\n",
      " [-31]\n",
      " [ 32]] \n",
      "\n",
      "4D array:\n",
      " [[ 34]\n",
      " [ 51]\n",
      " [ 22]\n",
      " [774]] \n",
      "\n",
      "5D array:\n",
      " [[34]\n",
      " [51]\n",
      " [22]\n",
      " [-2]\n",
      " [21]] \n",
      "\n",
      "3D array transpose:\n",
      " [[ 14 -31  32]] \n",
      "\n",
      "4D array transpose:\n",
      " [[ 34  51  22 774]] \n",
      "\n",
      "5D array transpose:\n",
      " [[34 51 22 -2 21]] \n",
      "\n"
     ]
    }
   ],
   "source": [
    "# A 1D vector is represented by a single digit in a 1D numpy array:\n",
    "vec_1d = np.array([1])\n",
    "print(\"A 1D vector (array):\", vec_1d, \"\\n\")\n",
    "\n",
    "# A 1D array can also have a list as an elemenT\n",
    "array_1d_list = np.array([1,5,2])  # this is also a 1D array (like above), but containsa list of numbers \n",
    "print(\"A 1D array with a list is basically a 3D vector:\", array_1d_list, \"\\n\")\n",
    "\n",
    "# Access individual elements of an array\n",
    "print(\"Get the first element of the 1D array with 3 elements (3D vector): \", array_1d_list[0], \"\\n\")\n",
    "\n",
    "# Transposing a 1D array returns an unchanged view\n",
    "print(\"Transpose of a 1D array with a list:\", np.transpose(array_1d_list), \"\\n\")\n",
    "\n",
    "# A 2D array (shape is (2,1) = 1 element in each of the 2 dimensions) is written as follows in numpy\n",
    "vec_2d = np.array([[31],[18]])\n",
    "print(\"A 2x1 D array):\\n\", vec_2d, \"\\n\")\n",
    "\n",
    "# the above can be transposed into a row vector\n",
    "print(\"Transpose of a 2x1 D array):\\n\", np.transpose(vec_2d), \"\\n\")\n",
    "\n",
    "# the following is a 2D array with 4 columns each or a 2x4 matrix\n",
    "array_2d_matrix = np.array([[43,55,324,2], [22,12,22,3]])\n",
    "print(\"A 2x4 matrix (array):\\n\", array_2d_matrix, array_2d_matrix.shape, \"\\n\")\n",
    "\n",
    "# The transposition of the above 2x4 matrix from above is a 4x2 matrix\n",
    "print(\"Transpose of a 2x4 matrix (array) is a 4x2 matrix:\\n\", np.transpose(array_2d_matrix), \n",
    "      np.transpose(array_2d_matrix).shape, \"\\n\")\n",
    "\n",
    "# 3, 4 and 5 dimensional arrays would be represented in numpy as follows:\n",
    "vec_3d = np.array([[14], [-31], [32]])\n",
    "vec_4d = np.array([[34], [51], [22], [774]])\n",
    "vec_5d = np.array([[34], [51], [22], [-2], [21]])\n",
    "\n",
    "print(\"3D array:\\n\", vec_3d, \"\\n\\n4D array:\\n\", vec_4d, \"\\n\\n5D array:\\n\", vec_5d, \"\\n\")\n",
    "\n",
    "# transpositions of the 3D, 4D and 5D arrays\n",
    "print(\"3D array transpose:\\n\", np.transpose(vec_3d), \"\\n\\n4D array transpose:\\n\", np.transpose(vec_4d), \n",
    "      \"\\n\\n5D array transpose:\\n\", np.transpose(vec_5d), \"\\n\")"
   ]
  },
  {
   "cell_type": "markdown",
   "metadata": {},
   "source": [
    "# Geometric Interpretation"
   ]
  },
  {
   "cell_type": "code",
   "execution_count": 38,
   "metadata": {
    "scrolled": false
   },
   "outputs": [],
   "source": [
    "# plot them\n",
    "plt.plot([0, vec_2d[0]],[0, vec_2d[1]])\n",
    "plt.axis('equal')\n",
    "plt.plot([-50, 50],[0, 0],'k--')\n",
    "plt.plot([0, 0],[-50, 50],'k--')\n",
    "plt.grid()\n",
    "plt.axis((-50, 50, -50, 50))\n",
    "plt.show()\n",
    "\n",
    "\n",
    "# plot the 3D vector\n",
    "fig = plt.figure()\n",
    "ax = fig.gca(projection='3d')\n",
    "ax.plot([0, vec_3d[0]],[0, vec_3d[1]],[0, vec_3d[2]])\n",
    "\n",
    "# make the plot look nicer\n",
    "plt.axis('equal')\n",
    "ax.plot([0, 0],[0, 0],[-35, 35],'k--')\n",
    "ax.plot([0, 0],[-35, 35],[0, 0],'k--')\n",
    "ax.plot([-35, 35],[0, 0],[0, 0],'k--')\n",
    "plt.show()"
   ]
  },
  {
   "cell_type": "markdown",
   "metadata": {},
   "source": [
    "# Vector Addition, Subtraction & Scalar Multiplication"
   ]
  },
  {
   "cell_type": "code",
   "execution_count": 39,
   "metadata": {},
   "outputs": [
    {
     "name": "stdout",
     "output_type": "stream",
     "text": [
      "operands could not be broadcast together with shapes (3,1) (2,1) \n",
      "cannot add vectors (arrays) with different number of elements\n",
      "tried to add vec_x_3d with shape (3, 1) and vec_y_2d with shape (2, 1) \n",
      "\n",
      "[[ 1 -1 32]] \n",
      "\n",
      "[[ 3 -3 41]] \n",
      "\n",
      "[[ 1 -1 32]] \n",
      "+\n",
      " [[ 2]\n",
      " [-2]\n",
      " [ 9]] \n",
      "=\n",
      " [[ 3  1 34]\n",
      " [-1 -3 30]\n",
      " [10  8 41]]\n",
      "\n",
      "the difference of vec_y_3d and vec_x_3d is:\n",
      "\n",
      " [[  1]\n",
      " [ -1]\n",
      " [-23]] \n",
      "\n",
      "\n",
      "the difference of vec_y_3d transpose (row vector) and vec_x_3d (Column vector) is:\n",
      "[[ 2 -2  9]] \n",
      "-\n",
      " [[ 1]\n",
      " [-1]\n",
      " [32]] \n",
      "=\n",
      " [[ 3 -1 10]\n",
      " [ 1 -3  8]\n",
      " [34 30 41]]\n"
     ]
    }
   ],
   "source": [
    "# Vector to vector addition\n",
    "\n",
    "vec_x_3d = np.array([[1], [-1],[32]])\n",
    "vec_y_3d = np.array([[2], [-2], [9]])\n",
    "\n",
    "vec_y_2d = np.array([[2], [-2]])\n",
    "\n",
    "try:\n",
    "    print(vec_x_3d + vec_y_2d)\n",
    "except Exception as e:\n",
    "    print(e)\n",
    "    print('cannot add vectors (arrays) with different number of elements')\n",
    "    print('tried to add vec_x_3d with shape', vec_x_3d.shape, 'and vec_y_2d with shape', vec_y_2d.shape,'\\n')\n",
    "    \n",
    "\n",
    "print(np.transpose(vec_x_3d), \"\\n\")\n",
    "                \n",
    "print(np.transpose(vec_x_3d) + np.transpose(vec_y_3d), \"\\n\")\n",
    "\n",
    "print (np.transpose(vec_x_3d), '\\n+\\n', vec_y_3d, '\\n=\\n', np.transpose(vec_x_3d) + vec_y_3d)\n",
    "\n",
    "\n",
    "# Vector to Vector Subtraction\n",
    "\n",
    "print('\\nthe difference of vec_y_3d and vec_x_3d is:\\n\\n', vec_y_3d - vec_x_3d, '\\n') \n",
    "\n",
    "print('\\nthe difference of vec_y_3d transpose (row vector) and vec_x_3d (Column vector) is:')\n",
    "print (np.transpose(vec_y_3d), '\\n-\\n', vec_x_3d, '\\n=\\n', np.transpose(vec_y_3d) + vec_x_3d )"
   ]
  },
  {
   "cell_type": "markdown",
   "metadata": {},
   "source": [
    "# Geometric Interpretation of Vector Addition & Subtraction"
   ]
  },
  {
   "cell_type": "code",
   "execution_count": 40,
   "metadata": {},
   "outputs": [],
   "source": [
    "''' \n",
    "Showing the geometric concept of vector addition using the head to tail approach.\n",
    "1) Draw line of first vector (can use standard position)\n",
    "2) Draw the second vector starting from the head of the first vector\n",
    "3) Draw the vector from the tail of the first vector to the head of the second vector (which is the sum of the two vectors)\n",
    "'''\n",
    "\n",
    "# 2D vector addition \n",
    "vec_2d_x = np.array([30, 30])\n",
    "vec_2d_y = np.array([19, 41])\n",
    "\n",
    "vec_sum_xy = vec_2d_x + vec_2d_y \n",
    "\n",
    "# Plotting the results as 2D Arrows\n",
    "p1 = plt.arrow(0, 0, float(vec_2d_x[0]), float(vec_2d_x[1]), length_includes_head=True, head_width=6, head_length=10, \n",
    "          label='vector 1', ec=\"#03d7fc\", facecolor=\"#03d7fc\", zorder=0)\n",
    "p2 = plt.arrow(float(vec_2d_x[0]), float(vec_2d_x[1]), float(vec_2d_y[0]), float(vec_2d_y[1]), length_includes_head=True, \n",
    "          head_width=6, head_length=10, label='vector 2', edgecolor=\"orange\", fc=\"orange\", zorder=0)\n",
    "\n",
    "p_sum, = plt.plot([0, vec_sum_xy[0]],[0, vec_sum_xy[1]], \n",
    "                  color='blue', label='Sum of vec X and Vec Y')  # the comma is required for the legend\n",
    "\n",
    "plt.title('Showing 2D vector addition using 2D geometric interpretation (head to tail approach) ')\n",
    "plt.axis('equal')\n",
    "plt.plot([-70, 70],[0, 0],'k--')\n",
    "plt.plot([0, 0],[-50, 50],'k--')\n",
    "plt.grid()\n",
    "\n",
    "\n",
    "plt.legend((p1, p2, p_sum), ('Vec X', 'Vec Y', 'Vec X + Vec Y'), loc=\"upper left\")\n",
    "plt.show()\n",
    "\n",
    "\n",
    "''' \n",
    "Showing the geometric concept of vector subtraction using the head to tail approach.\n",
    "1) Draw line of first vector (can use standard position)\n",
    "2) Convert the second vector into its negative by multiplying it by -1 \n",
    "2) Draw the negative of the second vector starting from the head of the first vector\n",
    "3) Draw the vector from the tail of the first vector to the head of the second vector (which is the sum of the two vectors)\n",
    "'''\n",
    "\n",
    "# 2D vector subtraction \n",
    "vec_diff_xy = vec_2d_x - vec_2d_y \n",
    "\n",
    "# Plotting the results as lines (vectors)\n",
    "vx, = plt.plot([0, vec_2d_x[0]], [0, vec_2d_x[1]], label='Vec X')\n",
    "vy, = plt.plot([vec_2d_x[0], vec_2d_x[0] + (-1*vec_2d_y[0])], [vec_2d_x[1], vec_2d_x[1] + (-1*vec_2d_y[1])], label='Vec Y')\n",
    "vdiff, = plt.plot([0, vec_diff_xy[0]], [0, vec_diff_xy[1]], label='Vec X - Vec Y')\n",
    "\n",
    "plt_diff = plt.title('Showing 2D vector subtraction using 2D geometric interpretation (head to tail approach) ')\n",
    "plt_diff = plt.axis('equal')\n",
    "plt_diff = plt.plot([-70, 70],[0, 0],'k--')\n",
    "plt_diff = plt.plot([0, 0],[-50, 50],'k--')\n",
    "plt_diff = plt.grid()\n",
    "\n",
    "plt_diff = plt.legend(loc=\"upper left\")\n",
    "# plt_diff = plt.legend((vx, vy, vdiff), ('Vec X', 'Vec Y', 'Vec X - Vec Y'), loc=\"upper left\")\n",
    "plt_diff = plt.show()\n",
    "\n",
    "\n",
    "# 3D vector scalar multiplication \n",
    "\n",
    "vec_3d = np.array([32, 12, -19])\n",
    "\n",
    "scale_by = 1.75\n",
    "\n",
    "scaled_vec_3d = vec_3d * scale_by\n",
    "\n",
    "# plot the 3D vector\n",
    "fig = plt.figure()\n",
    "ax = fig.gca(projection='3d')\n",
    "ax.plot([0, vec_3d[0]],[0, vec_3d[1]],[0, vec_3d[2]], color='blue', zorder=10, label='3d vector')\n",
    "ax.plot([0, scaled_vec_3d[0]],[0, scaled_vec_3d[1]],[0, scaled_vec_3d[2]], color='red', label='Scaled 3d vector')\n",
    "\n",
    "# make the plot look nicer\n",
    "plt.title('3D vector-scalar multiplication using 3D geometric interpretation (scaling) ')\n",
    "plt.axis('equal')\n",
    "ax.plot([0, 0],[0, 0],[-35, 35],'k--')\n",
    "ax.plot([0, 0],[-35, 35],[0, 0],'k--')\n",
    "ax.plot([-35, 35],[0, 0],[0, 0],'k--')\n",
    "plt.legend(loc='center left')\n",
    "plt.show()"
   ]
  },
  {
   "cell_type": "markdown",
   "metadata": {},
   "source": [
    "# Dot Product of Vectors"
   ]
  },
  {
   "cell_type": "markdown",
   "metadata": {},
   "source": [
    "<p><b>Definition:</b>The dot product of two vectors is the sum of the element-wise multiplication of each element. The result is a scalar value.</p>\n",
    "\n",
    "<b>Important Note:</b> in multi-dimensional arrays the dot product is calculated using the same method as above, but the first array is transposed, hence the notation v<sup>T</sup>w\n",
    "\n",
    "<b> Dot Product properties for VECTORS:</b>\n",
    "<ul>\n",
    "    <li>The dot product is <b>distributive</b>, which means that v<sup>T</sup>(w + y) = v<sup>T</sup>w + v<sup>T</sup>y</li>\n",
    "    <li>The dot product is <b>not associative</b>, which means that v<sup>T</sup>(w<sup>T</sup>y) &ne; (v<sup>T</sup>w)<sup>T</sup>y</li>\n",
    "    <li>The dot product of two vectors is <b>cumutative</b>: v<sup>T</sup>w = w<sup>T</sup>v</li>\n",
    "    <li>Dot product can be used to determine the magnitude of a vector of any dimension</li>\n",
    "    <li>Dot product can be used to calculate the angle between two vectors in radians</li>\n",
    "    <li>THE DOT PRODUCT OF A 1D ARRAY IN NUMPY IS THE INNER PRODUCT OF THE 2 ARRAYS (VECTOR DOT PRODUCT)</li>\n",
    "</ul>"
   ]
  },
  {
   "cell_type": "code",
   "execution_count": 41,
   "metadata": {},
   "outputs": [
    {
     "name": "stdout",
     "output_type": "stream",
     "text": [
      "The np calculated dot product of vec_2d_x T vec_2d_y is: 777 \n",
      "\n",
      "The Shawn calculated dot product of vec_2d_x T vec_2d_y is: 777 \n",
      "\n",
      "The Dot product of 1D arrays (vectors) are cumutative\n"
     ]
    }
   ],
   "source": [
    "# Computing the dot product for a  arrays in numpy\n",
    "\n",
    "vec_2d_x = np.array([55, 43])\n",
    "vec_2d_y = np.array([11, 4])\n",
    "\n",
    "#Compute dot product for both arrays using np.dot()\n",
    "\n",
    "print('The np calculated dot product of vec_2d_x T vec_2d_y is:', np.dot(vec_2d_x, vec_2d_y), '\\n')\n",
    "\n",
    "\n",
    "#Compute the dot product for both arrays using my own dot product function for vectors\n",
    "\n",
    "def diggity_dot(vec_1, vec_2):\n",
    "    '''The dot product for 2 vectors (1D arrays)'''\n",
    "    dot_p = 0\n",
    "    for v1, v2 in zip(vec_1, vec_2):  # zip to iterate elementwise through lists or arrays. If large use itertools.izip\n",
    "        dot_p += v1*v2\n",
    "    \n",
    "    return dot_p\n",
    "\n",
    "print('The Shawn calculated dot product of vec_2d_x T vec_2d_y is:', diggity_dot(vec_2d_x, vec_2d_y), '\\n')\n",
    "\n",
    "\n",
    "# Check to see if the dot product is cumutative (is )\n",
    "if np.dot(vec_2d_x, vec_2d_y) == np.dot(vec_2d_y, vec_2d_x):\n",
    "    print('The Dot product of 1D arrays (vectors) are cumutative')\n",
    "else:\n",
    "    print('The Dot product of 1D arrays (vectors) are not cumutative')\n"
   ]
  },
  {
   "cell_type": "markdown",
   "metadata": {},
   "source": [
    "## Calculate length of a vector using dot product"
   ]
  },
  {
   "cell_type": "markdown",
   "metadata": {},
   "source": [
    "<p>The length of a vector with any number of dimensions (1D array with any number of elements) is the square root of the dot product of itself</p>\n",
    "\n",
    "<h4>||<i><b>v</b></i>|| = &radic;(v<sup>T</sup>v)</h4>"
   ]
  },
  {
   "cell_type": "code",
   "execution_count": 42,
   "metadata": {},
   "outputs": [
    {
     "name": "stdout",
     "output_type": "stream",
     "text": [
      "The length of vector 2D using pythagorean theorm is: 20.223748416156685\n",
      "The length of vector 2D using dot product is: 20.223748416156685\n",
      "The length of vector 2D using numpy.linalg is: 20.223748416156685\n"
     ]
    }
   ],
   "source": [
    "vec_2d = np.array([3,20])\n",
    "\n",
    "#Calculating the length (magnitude) of a vector with pythagorean theorm\n",
    "pyth_length = (vec_2d[0]**2 + vec_2d[1]**2)**(1.0/2.0)\n",
    "print('The length of vector 2D using pythagorean theorm is:', pyth_length)\n",
    "\n",
    "#Calculating the length (magnitude) of a vector with vector dot product\n",
    "dot_length = (np.dot(vec_2d, vec_2d))**(1.0/2)\n",
    "print('The length of vector 2D using dot product is:', dot_length)\n",
    "\n",
    "# get length or norm of a vector using numpy\n",
    "from numpy import linalg as LA\n",
    "\n",
    "print('The length of vector 2D using numpy.linalg is:', LA.norm(vec_2d))\n"
   ]
  },
  {
   "cell_type": "markdown",
   "metadata": {},
   "source": [
    "## Calculate the angle between two vectors using dot product"
   ]
  },
  {
   "cell_type": "markdown",
   "metadata": {},
   "source": [
    "<p>The angle between two vectors is calculated as the arc-cosine of the dot product of the two vectors divided by product of the length (magnitude) of both vectors</p>\n",
    "\n",
    "<h4>&Theta; = arccos((v<sup>T</sup>w) / (|v|*|w|)) = cos<sup>-1</sup>((v<sup>T</sup>w) / (v<sup>T</sup>v*w<sup>T</sup>w)) </h4>\n",
    "\n",
    "<p><b>Note:</b> The angle is returned in radians</p>"
   ]
  },
  {
   "cell_type": "code",
   "execution_count": 43,
   "metadata": {},
   "outputs": [
    {
     "name": "stdout",
     "output_type": "stream",
     "text": [
      "The angle between vec_2d_x & vec_2d_y in radians is: 1.5707963267948966 \n",
      "The angle between vec_2d_x & vec_2d_y in degrees is: 90.0 \n",
      "The dot product i: 0\n"
     ]
    }
   ],
   "source": [
    "vec_2d_x = np.array([45, 10])\n",
    "vec_2d_y = np.array([10, -45])\n",
    "\n",
    "theta = np.arccos(np.dot(vec_2d_x, vec_2d_y) / ((LA.norm(vec_2d_x))*LA.norm(vec_2d_y)))\n",
    "\n",
    "print('The angle between vec_2d_x & vec_2d_y in radians is:', theta, \n",
    "      '\\nThe angle between vec_2d_x & vec_2d_y in degrees is:', np.rad2deg(theta),\n",
    "     '\\nThe dot product i:', np.dot(vec_2d_x, vec_2d_y))"
   ]
  },
  {
   "cell_type": "markdown",
   "metadata": {},
   "source": [
    "## Dot Product Geometry, Signs and orthogonality"
   ]
  },
  {
   "cell_type": "markdown",
   "metadata": {},
   "source": [
    "<p>The sign and valye of the dot product can tell us a lot about the relationship between two vectors</p>\n",
    "\n",
    "<b>\n",
    "    <ul>\n",
    "        <li>If the angle &Theta; is greater than 90&deg; the dot product (v<sup>T</sup>w) will be negative</li>\n",
    "        <li>If the angle &Theta; is less than 90&deg; the dot product (v<sup>T</sup>w) will be positive</li>\n",
    "        <li>If the angle &Theta; is equal to 90&deg; than the dot product (v<sup>T</sup>w) will be 0 - this is a special case called orthogonal</li> \n",
    "        <li>If the angle &Theta; is 0&deg; than the dot product (v<sup>T</sup>w) will be equal to the product of the length of both vectors\n",
    "    </ul>\n",
    "</b>"
   ]
  },
  {
   "cell_type": "code",
   "execution_count": 44,
   "metadata": {},
   "outputs": [
    {
     "name": "stdout",
     "output_type": "stream",
     "text": [
      "angle between the two vectors is:  164.9263879110353\n"
     ]
    }
   ],
   "source": [
    "# Negative Dot Product\n",
    "vec_2d_x = np.array([45, 10])\n",
    "vec_2d_y = np.array([-45, 2])\n",
    "\n",
    "\n",
    "def calc_arc_theta(vec_2d_a, vec_2d_b):\n",
    "    x_axis = np.array([10,0])\n",
    "    theta_a = np.rad2deg(np.arccos(np.dot(vec_2d_a, x_axis) / ((LA.norm(vec_2d_a))*LA.norm(x_axis))))\n",
    "    theta_b = np.rad2deg(np.arccos(np.dot(vec_2d_b, x_axis) / ((LA.norm(vec_2d_b))*LA.norm(x_axis))))\n",
    "    theta_dot = theta_b - theta_a\n",
    "    \n",
    "    print('angle between the two vectors is: ', theta_dot)\n",
    "    \n",
    "    return theta_a, theta_b, int(theta_dot)\n",
    "    \n",
    "arc_start, arc_end, arc_angle = calc_arc_theta(vec_2d_x, vec_2d_y)\n",
    "\n",
    "# create arc for representing angle using figure\n",
    "from matplotlib import patches\n",
    "fig = plt.figure(num=None, figsize=(10,10))\n",
    "ax = fig.add_subplot(111, aspect='auto')\n",
    "\n",
    "e1 = patches.Arc((0, 0), 10, 10, angle=0, theta1=arc_start, theta2= arc_end, linewidth=2, fill=False, zorder=2, label=str(arc_angle), \n",
    "                 color='blue')\n",
    "\n",
    "ax.add_patch(e1)\n",
    "ax.text(5,5, str(arc_angle) + '$^\\circ$')\n",
    "\n",
    "# plot both vectors as lines\n",
    "plt.plot([0, vec_2d_x[0]], [0, vec_2d_x[1]], label='Vec X')\n",
    "plt.plot([0, vec_2d_y[0]], [0, vec_2d_y[1]], label='Vec Y')\n",
    "#plt.title('Two vectors with a dot product of: '+ str(np.dot(vec_2d_x, vec_2d_y)))\n",
    "plt.axis('equal')\n",
    "plt.plot([-50, 50],[0, 0],'k--')\n",
    "plt.plot([0, 0],[-50, 50],'k--')\n",
    "plt.grid()\n",
    "\n",
    "plt.legend(loc=\"upper left\")\n",
    "# plt_diff = plt.legend((vx, vy, vdiff), ('Vec X', 'Vec Y', 'Vec X - Vec Y'), loc=\"upper left\")\n",
    "plt.show()"
   ]
  }
 ],
 "metadata": {
  "kernelspec": {
   "display_name": "Python 3",
   "language": "python",
   "name": "python3"
  },
  "language_info": {
   "codemirror_mode": {
    "name": "ipython",
    "version": 3
   },
   "file_extension": ".py",
   "mimetype": "text/x-python",
   "name": "python",
   "nbconvert_exporter": "python",
   "pygments_lexer": "ipython3",
   "version": "3.7.1"
  }
 },
 "nbformat": 4,
 "nbformat_minor": 2
}
